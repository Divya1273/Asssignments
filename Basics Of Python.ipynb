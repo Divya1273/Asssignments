{
 "cells": [
  {
   "cell_type": "markdown",
   "id": "fde9e611-3af8-4b8c-9b9d-03a42688f8a5",
   "metadata": {},
   "source": [
    "# Exercise 1: Prime Numbers "
   ]
  },
  {
   "cell_type": "code",
   "execution_count": 105,
   "id": "a9fb83a3-d31e-4839-a7ef-49fdea16f1a3",
   "metadata": {},
   "outputs": [
    {
     "name": "stdin",
     "output_type": "stream",
     "text": [
      "Enter a number:  2\n"
     ]
    },
    {
     "name": "stdout",
     "output_type": "stream",
     "text": [
      "2 is a prime number.\n"
     ]
    }
   ],
   "source": [
    "def is_prime(num):\n",
    "    if num < 2:\n",
    "        return False\n",
    "        \n",
    "    for i in range(2, int(num ** 0.5) + 1):\n",
    "        if num % i == 0:\n",
    "            return False\n",
    "    return True\n",
    "\n",
    "number = int(input(\"Enter a number: \"))\n",
    "\n",
    "if is_prime(number):\n",
    "    print(number, \"is a prime number.\")\n",
    "else:\n",
    "    print(number, \"is not a prime number.\")\n"
   ]
  },
  {
   "cell_type": "markdown",
   "id": "e4fa2736-6398-4653-b8bb-8ec2b339a9c5",
   "metadata": {},
   "source": [
    "# Exercise 2: Product of Random Numbers"
   ]
  },
  {
   "cell_type": "code",
   "execution_count": 113,
   "id": "34573a78-f9ee-424a-be5c-0bb2a988325f",
   "metadata": {},
   "outputs": [
    {
     "name": "stdin",
     "output_type": "stream",
     "text": [
      "What is the product of 10 * 6? 60\n"
     ]
    },
    {
     "name": "stdout",
     "output_type": "stream",
     "text": [
      "Correct! Great job!\n"
     ]
    }
   ],
   "source": [
    "import random\n",
    "num1 = random.randint(1,10)\n",
    "num2 = random.randint(1,10)\n",
    "\n",
    "user_input = int(input(f\"What is the product of {num1} * {num2}?\"))\n",
    "\n",
    "correct_answer = num1 * num2\n",
    "\n",
    "if user_input == correct_answer:\n",
    "    print(\"Correct! Great job!\")\n",
    "else:\n",
    "    print(f\"Incorrect. The correct answer is {correct_answer}.\") "
   ]
  },
  {
   "cell_type": "markdown",
   "id": "fbb4d189-d4e8-4780-849e-f935a0fcdde6",
   "metadata": {},
   "source": [
    "# Exercise 3: Squares of Even/Odd Numbers"
   ]
  },
  {
   "cell_type": "code",
   "execution_count": 116,
   "id": "b5bad010-7bd0-4e2b-ba1d-8c7b923a9c28",
   "metadata": {},
   "outputs": [],
   "source": [
    "# square of all odd numbers in range of 100 to 200"
   ]
  },
  {
   "cell_type": "code",
   "execution_count": 118,
   "id": "b97347c8-4542-48af-a00d-e8b8a17d3598",
   "metadata": {},
   "outputs": [
    {
     "name": "stdout",
     "output_type": "stream",
     "text": [
      "Squares of odd numbers from 100 to 200:\n",
      "101^2 = 10201\n",
      "103^2 = 10609\n",
      "105^2 = 11025\n",
      "107^2 = 11449\n",
      "109^2 = 11881\n",
      "111^2 = 12321\n",
      "113^2 = 12769\n",
      "115^2 = 13225\n",
      "117^2 = 13689\n",
      "119^2 = 14161\n",
      "121^2 = 14641\n",
      "123^2 = 15129\n",
      "125^2 = 15625\n",
      "127^2 = 16129\n",
      "129^2 = 16641\n",
      "131^2 = 17161\n",
      "133^2 = 17689\n",
      "135^2 = 18225\n",
      "137^2 = 18769\n",
      "139^2 = 19321\n",
      "141^2 = 19881\n",
      "143^2 = 20449\n",
      "145^2 = 21025\n",
      "147^2 = 21609\n",
      "149^2 = 22201\n",
      "151^2 = 22801\n",
      "153^2 = 23409\n",
      "155^2 = 24025\n",
      "157^2 = 24649\n",
      "159^2 = 25281\n",
      "161^2 = 25921\n",
      "163^2 = 26569\n",
      "165^2 = 27225\n",
      "167^2 = 27889\n",
      "169^2 = 28561\n",
      "171^2 = 29241\n",
      "173^2 = 29929\n",
      "175^2 = 30625\n",
      "177^2 = 31329\n",
      "179^2 = 32041\n",
      "181^2 = 32761\n",
      "183^2 = 33489\n",
      "185^2 = 34225\n",
      "187^2 = 34969\n",
      "189^2 = 35721\n",
      "191^2 = 36481\n",
      "193^2 = 37249\n",
      "195^2 = 38025\n",
      "197^2 = 38809\n",
      "199^2 = 39601\n"
     ]
    }
   ],
   "source": [
    "def odd(n):\n",
    "    return n % 2 != 0\n",
    "\n",
    "def squares_odd(start, end):\n",
    "    print(f\"Squares of odd numbers from {start} to {end}:\")\n",
    "    for number in range(start, end +1):\n",
    "        if odd(number):\n",
    "            square = number ** 2\n",
    "            print(f\"{number}^2 = {square}\")\n",
    "\n",
    "start_range = 100\n",
    "end_range = 200\n",
    "\n",
    "squares_odd(start_range, end_range)"
   ]
  },
  {
   "cell_type": "code",
   "execution_count": 120,
   "id": "ebaba459-8aa2-4dc5-a4e0-a7e2dba396dd",
   "metadata": {},
   "outputs": [],
   "source": [
    "# Also , square of all even numbers in range of 100 to 200"
   ]
  },
  {
   "cell_type": "code",
   "execution_count": 122,
   "id": "e3c1cf95-579f-4cc0-9282-74f18221fdde",
   "metadata": {},
   "outputs": [
    {
     "name": "stdout",
     "output_type": "stream",
     "text": [
      "Squares of even numbers from 100 to 200:\n",
      "100^2 = 10000\n",
      "102^2 = 10404\n",
      "104^2 = 10816\n",
      "106^2 = 11236\n",
      "108^2 = 11664\n",
      "110^2 = 12100\n",
      "112^2 = 12544\n",
      "114^2 = 12996\n",
      "116^2 = 13456\n",
      "118^2 = 13924\n",
      "120^2 = 14400\n",
      "122^2 = 14884\n",
      "124^2 = 15376\n",
      "126^2 = 15876\n",
      "128^2 = 16384\n",
      "130^2 = 16900\n",
      "132^2 = 17424\n",
      "134^2 = 17956\n",
      "136^2 = 18496\n",
      "138^2 = 19044\n",
      "140^2 = 19600\n",
      "142^2 = 20164\n",
      "144^2 = 20736\n",
      "146^2 = 21316\n",
      "148^2 = 21904\n",
      "150^2 = 22500\n",
      "152^2 = 23104\n",
      "154^2 = 23716\n",
      "156^2 = 24336\n",
      "158^2 = 24964\n",
      "160^2 = 25600\n",
      "162^2 = 26244\n",
      "164^2 = 26896\n",
      "166^2 = 27556\n",
      "168^2 = 28224\n",
      "170^2 = 28900\n",
      "172^2 = 29584\n",
      "174^2 = 30276\n",
      "176^2 = 30976\n",
      "178^2 = 31684\n",
      "180^2 = 32400\n",
      "182^2 = 33124\n",
      "184^2 = 33856\n",
      "186^2 = 34596\n",
      "188^2 = 35344\n",
      "190^2 = 36100\n",
      "192^2 = 36864\n",
      "194^2 = 37636\n",
      "196^2 = 38416\n",
      "198^2 = 39204\n",
      "200^2 = 40000\n"
     ]
    }
   ],
   "source": [
    "def even(n):\n",
    "    return n % 2 == 0\n",
    "\n",
    "def squares_even(start, end):\n",
    "    print(f\"Squares of even numbers from {start} to {end}:\")\n",
    "    for number in range(start, end +1):\n",
    "        if even(number):\n",
    "            square = number ** 2\n",
    "            print(f\"{number}^2 = {square}\")\n",
    "\n",
    "start_range = 100\n",
    "end_range = 200\n",
    "\n",
    "squares_even(start_range, end_range)\n",
    "\n"
   ]
  },
  {
   "cell_type": "markdown",
   "id": "ead1dd05-abd8-431b-9a85-cf8afb118847",
   "metadata": {},
   "source": [
    "# Exercise 4: Word counter\n"
   ]
  },
  {
   "cell_type": "code",
   "execution_count": 125,
   "id": "079f5358-0e18-46b5-bc56-68c1d6c0e324",
   "metadata": {},
   "outputs": [
    {
     "name": "stdout",
     "output_type": "stream",
     "text": [
      "'Hello!': 1\n",
      "'This': 1\n",
      "'is': 1\n",
      "'Divya': 1\n",
      "'Learning': 1\n",
      "'Data': 1\n",
      "'Science': 1\n",
      "'with': 1\n",
      "'ExcelR': 1\n"
     ]
    }
   ],
   "source": [
    "input_text = \"Hello! This is Divya Learning Data Science with ExcelR\"\n",
    "\n",
    "words = input_text.split() #split text into word\n",
    "\n",
    "word_count ={} # creating empty dictionary for word counts\n",
    "\n",
    "for word in words:\n",
    "    if word in word_count:\n",
    "        word_count[word] += 1\n",
    "    else:\n",
    "        word_count[word] = 1\n",
    "\n",
    "for word,count in word_count.items():\n",
    "    print(f\"'{word}': {count}\")\n",
    "    "
   ]
  },
  {
   "cell_type": "markdown",
   "id": "85275a94-d743-4801-9251-119c97a6fabe",
   "metadata": {},
   "source": [
    "# Exercise 5: Check for Palindrome"
   ]
  },
  {
   "cell_type": "code",
   "execution_count": 128,
   "id": "9a3d540e-f25b-488c-a8c2-14fce1f0f7f4",
   "metadata": {},
   "outputs": [
    {
     "name": "stdin",
     "output_type": "stream",
     "text": [
      "Enter the Palindrome: level\n"
     ]
    },
    {
     "name": "stdout",
     "output_type": "stream",
     "text": [
      "True\n"
     ]
    }
   ],
   "source": [
    "def is_palindrome(text):\n",
    "    cleaned = ''.join(char.lower() for char in text if char.isalnum())\n",
    "    return cleaned == cleaned[::-1]\n",
    "\n",
    "user_input = input(\"Enter the Palindrome:\")\n",
    "\n",
    "if is_palindrome(user_input):\n",
    "    print(\"True\")\n",
    "else:\n",
    "    print(\"False\")"
   ]
  }
 ],
 "metadata": {
  "kernelspec": {
   "display_name": "Python [conda env:base] *",
   "language": "python",
   "name": "conda-base-py"
  },
  "language_info": {
   "codemirror_mode": {
    "name": "ipython",
    "version": 3
   },
   "file_extension": ".py",
   "mimetype": "text/x-python",
   "name": "python",
   "nbconvert_exporter": "python",
   "pygments_lexer": "ipython3",
   "version": "3.12.7"
  }
 },
 "nbformat": 4,
 "nbformat_minor": 5
}
