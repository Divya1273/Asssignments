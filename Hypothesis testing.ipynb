{
 "cells": [
  {
   "cell_type": "markdown",
   "id": "7b11eb07-3a46-40f6-9d5a-33af9ec45fe3",
   "metadata": {},
   "source": [
    "# Import the libraries"
   ]
  },
  {
   "cell_type": "code",
   "execution_count": 41,
   "id": "e65371f1-8d90-40b8-9a6f-0004a2b90559",
   "metadata": {},
   "outputs": [],
   "source": [
    "import math\n",
    "import scipy\n",
    "import pandas as pd\n",
    "import numpy as np\n",
    "from scipy import stats"
   ]
  },
  {
   "cell_type": "markdown",
   "id": "24cd0900-a495-4cf8-abda-c30a0d5ded3d",
   "metadata": {},
   "source": [
    "# Step 1: Define known values"
   ]
  },
  {
   "cell_type": "code",
   "execution_count": 44,
   "id": "63e41cbb-dcb9-4045-a0fa-f3a5da3dbb85",
   "metadata": {},
   "outputs": [
    {
     "name": "stdout",
     "output_type": "stream",
     "text": [
      "Sample Mean (x̄): 3050\n"
     ]
    }
   ],
   "source": [
    "sample_mean = 3050\n",
    "print(f\"Sample Mean (x̄): {sample_mean}\")"
   ]
  },
  {
   "cell_type": "code",
   "execution_count": 46,
   "id": "3dedade8-6baf-43d2-9a62-7140f4c87059",
   "metadata": {},
   "outputs": [
    {
     "name": "stdout",
     "output_type": "stream",
     "text": [
      "sample mean : 3050\n"
     ]
    }
   ],
   "source": [
    "sample_mean = 3050\n",
    "print(\"sample mean :\",sample_mean)"
   ]
  },
  {
   "cell_type": "code",
   "execution_count": 48,
   "id": "2553bc61-bfdf-42f3-8bf2-7ad986e03977",
   "metadata": {},
   "outputs": [
    {
     "name": "stdout",
     "output_type": "stream",
     "text": [
      "theoretical mean is :  4000\n"
     ]
    }
   ],
   "source": [
    "theoretical_mean = 1000 + 5 * 600\n",
    "print(\"theoretical mean is : \", theoretical_mean)"
   ]
  },
  {
   "cell_type": "code",
   "execution_count": 50,
   "id": "58ed7ded-a664-4a52-87ff-e24900b4112b",
   "metadata": {},
   "outputs": [
    {
     "name": "stdout",
     "output_type": "stream",
     "text": [
      "standard deviation is : 125\n"
     ]
    }
   ],
   "source": [
    "std_dev = 5 * 25\n",
    "print(\"standard deviation is :\", std_dev)"
   ]
  },
  {
   "cell_type": "code",
   "execution_count": 52,
   "id": "98520067-53f2-4878-a709-121a47d213b4",
   "metadata": {},
   "outputs": [
    {
     "name": "stdout",
     "output_type": "stream",
     "text": [
      "sample size : 25\n"
     ]
    }
   ],
   "source": [
    "n = 25\n",
    "print(\"sample size :\", n)"
   ]
  },
  {
   "cell_type": "code",
   "execution_count": 54,
   "id": "e239a1a0-8bd2-4831-bd1e-823c7e5aab49",
   "metadata": {},
   "outputs": [],
   "source": [
    "alpha = 0.05"
   ]
  },
  {
   "cell_type": "markdown",
   "id": "e82e7102-bf07-4032-b051-8bd6ba851dfb",
   "metadata": {},
   "source": [
    "# Step 2: Calculate the Test Statistic"
   ]
  },
  {
   "cell_type": "code",
   "execution_count": 57,
   "id": "08c2ffcb-041b-46d1-bff4-5eed71e59669",
   "metadata": {},
   "outputs": [
    {
     "name": "stdout",
     "output_type": "stream",
     "text": [
      "Test Statistic : -38.0\n"
     ]
    }
   ],
   "source": [
    "test_statistic = (sample_mean - theoretical_mean) / (std_dev / math.sqrt(n))\n",
    "print(\"Test Statistic :\", test_statistic)"
   ]
  },
  {
   "cell_type": "markdown",
   "id": "4fa54253-caf5-464a-a5a8-6d9d7bef8c25",
   "metadata": {},
   "source": [
    "# Step 3: Determine the Critical Value:"
   ]
  },
  {
   "cell_type": "code",
   "execution_count": 60,
   "id": "04c0ecb7-1ce9-4c1d-b15a-36123565f66b",
   "metadata": {},
   "outputs": [
    {
     "name": "stdout",
     "output_type": "stream",
     "text": [
      "z critical :  1.959963984540054\n"
     ]
    }
   ],
   "source": [
    "z_critical = stats.norm.ppf(1 - alpha/2)\n",
    "print(\"z critical : \", z_critical)"
   ]
  },
  {
   "cell_type": "markdown",
   "id": "0090714d-7f6f-435a-b220-d3479184ffa0",
   "metadata": {},
   "source": [
    "# Step 4: Make a Decision"
   ]
  },
  {
   "cell_type": "code",
   "execution_count": 63,
   "id": "194b6c99-1379-4127-b591-0c2aba073ac4",
   "metadata": {},
   "outputs": [
    {
     "name": "stdout",
     "output_type": "stream",
     "text": [
      "Decision: We Reject the null hypothesis saying that There is strong evidence to support the restaurant owners' claim that the weekly operating costs are different from what the model suggests.\n"
     ]
    }
   ],
   "source": [
    "if abs(test_statistic) > z_critical:\n",
    "    decision = \"We Reject the null hypothesis saying that There is strong evidence to support the restaurant owners' claim that the weekly operating costs are different from what the model suggests.\"\n",
    "else:\n",
    "    decision = \"We do not reject the null hypothesis saying that There is not enough evidence to support the restaurant owners' claim; the weekly operating costs align with the model.\"\n",
    "    \n",
    "print(\"Decision:\",decision)"
   ]
  },
  {
   "cell_type": "markdown",
   "id": "44d9cdb3-bdce-452f-8d68-ac34b2ae9777",
   "metadata": {},
   "source": [
    "# Step 5: Conclusion"
   ]
  },
  {
   "cell_type": "code",
   "execution_count": null,
   "id": "436946d4-c558-41ec-a5c7-5da712193643",
   "metadata": {},
   "outputs": [],
   "source": [
    "'''\n",
    "Hence ,conclusion is we reject the null hypothesis saying that there is strong evidence to support the restaurant owners' \n",
    "claim that the weekly operating costs are different from what the model suggests.\n",
    "'''"
   ]
  }
 ],
 "metadata": {
  "kernelspec": {
   "display_name": "Python [conda env:base] *",
   "language": "python",
   "name": "conda-base-py"
  },
  "language_info": {
   "codemirror_mode": {
    "name": "ipython",
    "version": 3
   },
   "file_extension": ".py",
   "mimetype": "text/x-python",
   "name": "python",
   "nbconvert_exporter": "python",
   "pygments_lexer": "ipython3",
   "version": "3.12.7"
  }
 },
 "nbformat": 4,
 "nbformat_minor": 5
}
