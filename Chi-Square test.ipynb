{
 "cells": [
  {
   "cell_type": "markdown",
   "id": "d6ef2d5d-890a-4257-8ffc-87e652cfec61",
   "metadata": {},
   "source": [
    "# Import the libraries"
   ]
  },
  {
   "cell_type": "code",
   "execution_count": 58,
   "id": "d3bea757-fe67-415c-9382-61eca750d396",
   "metadata": {},
   "outputs": [],
   "source": [
    "import pandas as pd\n",
    "import numpy as np\n",
    "import scipy.stats as stats "
   ]
  },
  {
   "cell_type": "code",
   "execution_count": 60,
   "id": "c7023c83-d0c8-4ce0-a68d-518db4a6af34",
   "metadata": {},
   "outputs": [],
   "source": [
    "# data -  we have to create 2D table matrix \n",
    "# rows"
   ]
  },
  {
   "cell_type": "code",
   "execution_count": 62,
   "id": "c6e7f165-b335-4183-8e20-47a889f3fd57",
   "metadata": {},
   "outputs": [],
   "source": [
    "data = [\n",
    "    [50, 70],\n",
    "    [80, 100],\n",
    "    [60, 90],\n",
    "    [30, 50],\n",
    "    [20, 50]\n",
    "]\n"
   ]
  },
  {
   "cell_type": "markdown",
   "id": "be494765-4f5b-4d20-b65e-acda281ec814",
   "metadata": {},
   "source": [
    "# Contingency table"
   ]
  },
  {
   "cell_type": "code",
   "execution_count": 65,
   "id": "efc3dcd3-f0f6-469f-9a1a-192edcc9e231",
   "metadata": {},
   "outputs": [],
   "source": [
    "# columns "
   ]
  },
  {
   "cell_type": "code",
   "execution_count": 67,
   "id": "6dbdf887-e7da-40b2-af0c-ba0189558fb2",
   "metadata": {},
   "outputs": [],
   "source": [
    "index_labels = ['Very Satisfied', 'Satisfied', 'Neutral', 'Unsatisfied', 'Very Unsatisfied']\n",
    "columns = ['Smart Thermostat', 'Smart Light']"
   ]
  },
  {
   "cell_type": "code",
   "execution_count": 69,
   "id": "430853ed-ccf2-4398-95f1-044c14b66f12",
   "metadata": {},
   "outputs": [],
   "source": [
    "contingency_table = pd.DataFrame(data, columns=columns, index=index_labels)"
   ]
  },
  {
   "cell_type": "code",
   "execution_count": 71,
   "id": "4b14e9f2-d32e-4628-af2d-fb3c7e5a5444",
   "metadata": {},
   "outputs": [
    {
     "name": "stdout",
     "output_type": "stream",
     "text": [
      "Contingency Table:\n",
      "                  Smart Thermostat  Smart Light\n",
      "Very Satisfied                  50           70\n",
      "Satisfied                       80          100\n",
      "Neutral                         60           90\n",
      "Unsatisfied                     30           50\n",
      "Very Unsatisfied                20           50\n"
     ]
    }
   ],
   "source": [
    "print(\"Contingency Table:\")\n",
    "print(contingency_table)"
   ]
  },
  {
   "cell_type": "markdown",
   "id": "189402dd-0a00-4034-856d-a61584966bad",
   "metadata": {},
   "source": [
    "# chi square test"
   ]
  },
  {
   "cell_type": "code",
   "execution_count": 74,
   "id": "8a608cdf-0f71-4ea8-b5fb-458e4493fe30",
   "metadata": {},
   "outputs": [
    {
     "name": "stdout",
     "output_type": "stream",
     "text": [
      "Chi-squared value: 5.638227513227513.\n",
      "Pval: 0.22784371130697179.\n",
      "Degree of Freedom: 4.\n",
      "Expected Value: \n",
      "[[ 48.  72.]\n",
      " [ 72. 108.]\n",
      " [ 60.  90.]\n",
      " [ 32.  48.]\n",
      " [ 28.  42.]].\n"
     ]
    }
   ],
   "source": [
    "chi_value, pval, df, expected_value = stats.chi2_contingency(contingency_table)\n",
    "print('Chi-squared value: {}.\\nPval: {}.\\nDegree of Freedom: {}.\\nExpected Value: \\n{}.'.format(chi_value, pval, df, expected_value)) "
   ]
  },
  {
   "cell_type": "code",
   "execution_count": 76,
   "id": "fb65fcb7-b43a-4d99-8439-b2b86318d226",
   "metadata": {},
   "outputs": [],
   "source": [
    "# alpha value = 0.05"
   ]
  },
  {
   "cell_type": "code",
   "execution_count": 78,
   "id": "42ca8270-bb43-418b-bb28-c97cbd19c5e8",
   "metadata": {},
   "outputs": [],
   "source": [
    "alpha = 0.05"
   ]
  },
  {
   "cell_type": "markdown",
   "id": "222d323c-7f54-4ae7-a405-2b2591cc6d4e",
   "metadata": {},
   "source": [
    "# Critical Value"
   ]
  },
  {
   "cell_type": "code",
   "execution_count": 81,
   "id": "bd246fc9-f26e-4a3b-b654-617226d0054b",
   "metadata": {},
   "outputs": [],
   "source": [
    "critical_value = stats.chi2.ppf(1 - alpha, df)"
   ]
  },
  {
   "cell_type": "markdown",
   "id": "6333b245-656f-456b-b12f-6284bfaecd02",
   "metadata": {},
   "source": [
    "# Making decision"
   ]
  },
  {
   "cell_type": "code",
   "execution_count": 84,
   "id": "5b9bc5d4-5be6-4c9b-a6eb-62afeba05bb7",
   "metadata": {},
   "outputs": [
    {
     "name": "stdout",
     "output_type": "stream",
     "text": [
      "Conclusion: Fail to reject the null hypothesis saying that No significant association was found between device type and customer satisfaction.\n"
     ]
    }
   ],
   "source": [
    "if chi_value > critical_value:\n",
    "    print(\"Conclusion: We reject the null hypothesis saying that there is a statistically significant association between device type and customer satisfaction.\")\n",
    "   \n",
    "else:\n",
    "    print(\"Conclusion: Fail to reject the null hypothesis saying that No significant association was found between device type and customer satisfaction.\")\n",
    "   "
   ]
  },
  {
   "cell_type": "markdown",
   "id": "0e9d1aea-c104-4408-a4cd-2e00303c460b",
   "metadata": {},
   "source": [
    "# Final Conclusion"
   ]
  },
  {
   "cell_type": "code",
   "execution_count": 87,
   "id": "b67a00ef-1b5d-48e2-a460-1b34408dc658",
   "metadata": {},
   "outputs": [
    {
     "data": {
      "text/plain": [
       "'Fail to reject the null hypothesis saying that no significant association was found between device type and customer satisfaction.'"
      ]
     },
     "execution_count": 87,
     "metadata": {},
     "output_type": "execute_result"
    }
   ],
   "source": [
    "'Fail to reject the null hypothesis saying that no significant association was found between device type and customer satisfaction.'"
   ]
  }
 ],
 "metadata": {
  "kernelspec": {
   "display_name": "Python [conda env:base] *",
   "language": "python",
   "name": "conda-base-py"
  },
  "language_info": {
   "codemirror_mode": {
    "name": "ipython",
    "version": 3
   },
   "file_extension": ".py",
   "mimetype": "text/x-python",
   "name": "python",
   "nbconvert_exporter": "python",
   "pygments_lexer": "ipython3",
   "version": "3.12.7"
  }
 },
 "nbformat": 4,
 "nbformat_minor": 5
}
