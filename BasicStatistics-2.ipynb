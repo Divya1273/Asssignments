{
 "cells": [
  {
   "cell_type": "markdown",
   "id": "bd3f26ae-49a7-4389-a2c8-eae8a32f02dc",
   "metadata": {},
   "source": [
    "# Confidance Interval"
   ]
  },
  {
   "cell_type": "markdown",
   "id": "6a39366e-af35-434b-8f3a-ce8210f51871",
   "metadata": {},
   "source": [
    "# Import libraries"
   ]
  },
  {
   "cell_type": "code",
   "execution_count": 18,
   "id": "49234726-72c3-4d6e-a09d-be62b298ec34",
   "metadata": {},
   "outputs": [],
   "source": [
    "from scipy import stats\n",
    "import pandas as pd\n",
    "import numpy as np"
   ]
  },
  {
   "cell_type": "code",
   "execution_count": 20,
   "id": "de80db6f-ed7a-4e9d-ac5a-3f93d4dc3065",
   "metadata": {},
   "outputs": [
    {
     "name": "stdout",
     "output_type": "stream",
     "text": [
      "       0\n",
      "0   0.92\n",
      "1   1.13\n",
      "2   1.55\n",
      "3   1.25\n",
      "4   1.43\n",
      "5   1.36\n",
      "6   1.32\n",
      "7   0.85\n",
      "8   1.07\n",
      "9   1.48\n",
      "10  1.20\n",
      "11  1.33\n",
      "12  1.29\n",
      "13  1.18\n",
      "14  1.22\n"
     ]
    }
   ],
   "source": [
    "data = {\n",
    "    1.13, 1.55, 1.43, 0.92, 1.25, 1.36, 1.32, 0.85, 1.07, 1.48, 1.20, 1.33, 1.18, 1.22, 1.29\n",
    "} \n",
    "df = pd.DataFrame(data)\n",
    "print(df)"
   ]
  },
  {
   "cell_type": "code",
   "execution_count": 22,
   "id": "c9291509-f0ed-40d5-b785-938713f61b8a",
   "metadata": {},
   "outputs": [
    {
     "data": {
      "text/html": [
       "<div>\n",
       "<style scoped>\n",
       "    .dataframe tbody tr th:only-of-type {\n",
       "        vertical-align: middle;\n",
       "    }\n",
       "\n",
       "    .dataframe tbody tr th {\n",
       "        vertical-align: top;\n",
       "    }\n",
       "\n",
       "    .dataframe thead th {\n",
       "        text-align: right;\n",
       "    }\n",
       "</style>\n",
       "<table border=\"1\" class=\"dataframe\">\n",
       "  <thead>\n",
       "    <tr style=\"text-align: right;\">\n",
       "      <th></th>\n",
       "      <th>0</th>\n",
       "    </tr>\n",
       "  </thead>\n",
       "  <tbody>\n",
       "    <tr>\n",
       "      <th>0</th>\n",
       "      <td>0.92</td>\n",
       "    </tr>\n",
       "    <tr>\n",
       "      <th>1</th>\n",
       "      <td>1.13</td>\n",
       "    </tr>\n",
       "    <tr>\n",
       "      <th>2</th>\n",
       "      <td>1.55</td>\n",
       "    </tr>\n",
       "    <tr>\n",
       "      <th>3</th>\n",
       "      <td>1.25</td>\n",
       "    </tr>\n",
       "    <tr>\n",
       "      <th>4</th>\n",
       "      <td>1.43</td>\n",
       "    </tr>\n",
       "  </tbody>\n",
       "</table>\n",
       "</div>"
      ],
      "text/plain": [
       "      0\n",
       "0  0.92\n",
       "1  1.13\n",
       "2  1.55\n",
       "3  1.25\n",
       "4  1.43"
      ]
     },
     "execution_count": 22,
     "metadata": {},
     "output_type": "execute_result"
    }
   ],
   "source": [
    "df.head()"
   ]
  },
  {
   "cell_type": "markdown",
   "id": "d76f0311-ef9c-400a-8def-9fa336b8e840",
   "metadata": {},
   "source": [
    "## a) 99% Confidence Interval Using Sample Standard Deviation"
   ]
  },
  {
   "cell_type": "code",
   "execution_count": 30,
   "id": "fcf2451d-aee2-4ffb-b98a-0ecb41d5a0d5",
   "metadata": {},
   "outputs": [
    {
     "name": "stdout",
     "output_type": "stream",
     "text": [
      "99% Confidence Interval Using Sample Standard Deviation is: [[0.7411]\n",
      " [1.7362]]\n"
     ]
    }
   ],
   "source": [
    "data = stats.norm.interval(0.99,\n",
    "loc=df.mean(),\n",
    "scale=df.std())\n",
    "print( '99% Confidence Interval Using Sample Standard Deviation is:', np.round(data, 4))"
   ]
  },
  {
   "cell_type": "code",
   "execution_count": 32,
   "id": "48dd1faf-2da9-4cd9-b9c9-8626cc01a322",
   "metadata": {},
   "outputs": [],
   "source": [
    "# 99% confidence Interval is 0.7411 , 1.7362"
   ]
  },
  {
   "cell_type": "markdown",
   "id": "b9564f09-917e-4dd2-8d98-e3924d2b6dca",
   "metadata": {},
   "source": [
    "## b) 99% Confidence Interval Using Known Population Standard Deviation"
   ]
  },
  {
   "cell_type": "code",
   "execution_count": 36,
   "id": "4b50b858-a1c0-4cbc-b5d8-f9deacf62253",
   "metadata": {},
   "outputs": [
    {
     "name": "stdout",
     "output_type": "stream",
     "text": [
      "99% Confidence Interval Using Known Population Standard Deviation is: [[0.7235]\n",
      " [1.7538]]\n"
     ]
    }
   ],
   "source": [
    "data = stats.norm.interval(0.99,\n",
    "loc=df.mean(),\n",
    "scale=0.2)\n",
    "print( '99% Confidence Interval Using Known Population Standard Deviation is:', np.round(data, 4))"
   ]
  },
  {
   "cell_type": "code",
   "execution_count": null,
   "id": "46755364-2571-4a3a-a65a-473954693643",
   "metadata": {},
   "outputs": [],
   "source": [
    "# 99% Confidence Interval Using Known Population is 0.7235 , 1.7538"
   ]
  }
 ],
 "metadata": {
  "kernelspec": {
   "display_name": "Python [conda env:base] *",
   "language": "python",
   "name": "conda-base-py"
  },
  "language_info": {
   "codemirror_mode": {
    "name": "ipython",
    "version": 3
   },
   "file_extension": ".py",
   "mimetype": "text/x-python",
   "name": "python",
   "nbconvert_exporter": "python",
   "pygments_lexer": "ipython3",
   "version": "3.12.7"
  }
 },
 "nbformat": 4,
 "nbformat_minor": 5
}
